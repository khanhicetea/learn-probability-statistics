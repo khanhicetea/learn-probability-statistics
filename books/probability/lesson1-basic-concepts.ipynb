{
 "cells": [
  {
   "cell_type": "markdown",
   "source": [
    "__Probability Theory__ includes :\n",
    "\n",
    "- Random Variables\n",
    "    - Discrete\n",
    "    - Continuous\n",
    "- Distributions\n",
    "- Stochastic Processes\n"
   ],
   "metadata": {}
  },
  {
   "cell_type": "code",
   "execution_count": 1,
   "source": [
    "# Import libraries\n",
    "import random"
   ],
   "outputs": [],
   "metadata": {}
  },
  {
   "cell_type": "code",
   "execution_count": 2,
   "source": [
    "# Events set\n",
    "# Event set is a set of outcomes of an experiment to which a probability is assigned.\n",
    "\n",
    "ROLL_DICE_EVENTS = {1, 2, 3, 4, 5, 6}\n",
    "# transform set to list to use in random.choice function\n",
    "# Set type in Python is more semantic than list, but I will use list from now\n",
    "TUPLE_DICE_EVENTS = list(ROLL_DICE_EVENTS) \n",
    "\n",
    "for i in range(1, 5):\n",
    "    print(f\"{i} Roll dice the random result is \", random.choice(TUPLE_DICE_EVENTS))"
   ],
   "outputs": [
    {
     "output_type": "stream",
     "name": "stdout",
     "text": [
      "1 Roll dice the random result is  2\n",
      "2 Roll dice the random result is  6\n",
      "3 Roll dice the random result is  1\n",
      "4 Roll dice the random result is  1\n"
     ]
    }
   ],
   "metadata": {}
  },
  {
   "cell_type": "code",
   "execution_count": 3,
   "source": [
    "# Probability\n",
    "# is a measure of a likelihood that event will occur — a number from 0 to 1\n",
    "# P(A) = (number A happended) / (number of expirements)\n",
    "# Because (number A happended) <= (number of expirements) => 0 <= P(A) <= 1\n",
    "\n",
    "N = 10\n",
    "n_A = 0 # A is event of 3 points\n",
    "for i in range(N):\n",
    "    exp_result = random.choice(TUPLE_DICE_EVENTS)\n",
    "    if exp_result == 3:\n",
    "        n_A = n_A + 1\n",
    "\n",
    "p_A = n_A / N\n",
    "print(f\"P(A) = n_A / N = {n_A} / {N} = {p_A:.2f}\")"
   ],
   "outputs": [
    {
     "output_type": "stream",
     "name": "stdout",
     "text": [
      "P(A) = n_A / N = 2 / 10 = 0.20\n"
     ]
    }
   ],
   "metadata": {}
  },
  {
   "cell_type": "code",
   "execution_count": 4,
   "source": [
    "# Collectively exhaustive events\n",
    "# Set of event always happended (at least one of them)\n",
    "# Probability = 1\n",
    "\n",
    "collectively_exhaustive = [1, 2, 3, 4, 5, 6]\n",
    "\n",
    "N = 10\n",
    "n_B = 0 # B is event in collectively_exhaustive\n",
    "for i in range(N):\n",
    "    exp_result = random.choice(TUPLE_DICE_EVENTS)\n",
    "    if exp_result in collectively_exhaustive:\n",
    "        n_B = n_B + 1\n",
    "\n",
    "p_B = n_B / N\n",
    "print(f\"P(B) = n_B / N = {n_B} / {N} = {p_B:.2f}\")"
   ],
   "outputs": [
    {
     "output_type": "stream",
     "name": "stdout",
     "text": [
      "P(B) = n_B / N = 10 / 10 = 1.00\n"
     ]
    }
   ],
   "metadata": {}
  },
  {
   "cell_type": "code",
   "execution_count": 5,
   "source": [
    "# Mutually exclusive events\n",
    "# events that cannot both occur\n",
    "# Probability = 0\n",
    "\n",
    "N = 10\n",
    "n_C = 0 # C is event get 2 points and 3 points in same time\n",
    "for i in range(N):\n",
    "    exp_result = random.choice(TUPLE_DICE_EVENTS)\n",
    "    if exp_result == 2 and exp_result == 3:\n",
    "        n_C = n_C + 1\n",
    "\n",
    "p_C = n_C / N\n",
    "print(f\"P(B) = n_C / N = {n_C} / {N} = {p_C:.2f}\")"
   ],
   "outputs": [
    {
     "output_type": "stream",
     "name": "stdout",
     "text": [
      "P(B) = n_C / N = 0 / 10 = 0.00\n"
     ]
    }
   ],
   "metadata": {}
  },
  {
   "cell_type": "code",
   "execution_count": 6,
   "source": [
    "# Equally likely events\n",
    "# events that have the same probability to occur\n",
    "# If dice is fair, event get 3 points will have likely same probability\n",
    "\n",
    "N = 1000000\n",
    "n_D = 0 # D is event get 2 points\n",
    "n_E = 0 # E is event get 3 points\n",
    "for i in range(N):\n",
    "    exp_result = random.choice(TUPLE_DICE_EVENTS)\n",
    "    if exp_result == 2:\n",
    "        n_D = n_D + 1\n",
    "    elif exp_result == 3:\n",
    "        n_E = n_E + 1\n",
    "\n",
    "p_D = n_D / N\n",
    "p_E = n_E / N\n",
    "print(f\"P(B) = n_D / N = {n_D} / {N} = {p_D:.3f}\")\n",
    "print(f\"P(B) = n_E / N = {n_E} / {N} = {p_E:.3f}\")\n",
    "\n",
    "# You can see  n_D != n_E in reality, we can't do experiment and sure that THE TRUELY FAIR always be happended => UNCERTAIN !"
   ],
   "outputs": [
    {
     "output_type": "stream",
     "name": "stdout",
     "text": [
      "P(B) = n_D / N = 166703 / 1000000 = 0.167\n",
      "P(B) = n_E / N = 166211 / 1000000 = 0.166\n"
     ]
    }
   ],
   "metadata": {}
  }
 ],
 "metadata": {
  "orig_nbformat": 4,
  "language_info": {
   "name": "python",
   "version": "3.8.10",
   "mimetype": "text/x-python",
   "codemirror_mode": {
    "name": "ipython",
    "version": 3
   },
   "pygments_lexer": "ipython3",
   "nbconvert_exporter": "python",
   "file_extension": ".py"
  },
  "kernelspec": {
   "name": "python3",
   "display_name": "Python 3.8.10 64-bit ('probability-statistics-W1lVLoYB-py3.8': venv)"
  },
  "interpreter": {
   "hash": "f31c04e6d499fb30d5a18bbfcd1af0ebbc2d66c666374b774f04ee38d9075b43"
  }
 },
 "nbformat": 4,
 "nbformat_minor": 2
}