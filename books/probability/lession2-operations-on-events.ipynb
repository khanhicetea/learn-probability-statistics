{
 "cells": [
  {
   "cell_type": "markdown",
   "source": [
    "# Operations on Events\n",
    "\n",
    "Sometimes, complex event is defined by many simpler event. So we need operations to represent and calculate probiability of complex events.\n",
    "\n",
    "- SUM : C = A + B , means A or B or both occur\n",
    "- MULTIPLYING : D = A x B , means A occur then B occur\n"
   ],
   "metadata": {}
  },
  {
   "cell_type": "code",
   "execution_count": 1,
   "source": [
    "import random"
   ],
   "outputs": [],
   "metadata": {}
  },
  {
   "cell_type": "markdown",
   "source": [
    "## SUM\n",
    "\n",
    "![Ven Diagram](../../draws/lesson2-ven-diagram.svg)\n",
    "\n",
    "As we can see :\n",
    "\n",
    "- Circle A is when A occurs, P(A) = area of circle A\n",
    "- Circle B is when B occurs, P(B) = area of circle B\n",
    "- Union between of A and B is event C occurs, P(C) = X1 + X3 + X2 = P(A) + P(B) - X2\n",
    "- Intersect A and B is event D occurs, P(D) = X2"
   ],
   "metadata": {}
  },
  {
   "cell_type": "code",
   "execution_count": 2,
   "source": [
    "# SUM\n",
    "\n",
    "ROLL_DICE_EVENTS = [1, 2, 3, 4, 5, 6]\n",
    "\n",
    "N = 100000\n",
    "n_A = 0 # event A : dice < 4\n",
    "n_B = 0 # event B : dice is even\n",
    "n_C = 0 # event C = A + B : dice even or < 4 or both\n",
    "n_D = 0 # event D = A * B : dice even and < 4\n",
    "\n",
    "for i in range(N):\n",
    "    exp_result = random.choice(ROLL_DICE_EVENTS)\n",
    "    if exp_result < 4:\n",
    "        n_A = n_A + 1\n",
    "    if exp_result % 2 == 0:\n",
    "        n_B = n_B + 1\n",
    "    if exp_result < 4 or exp_result % 2 == 0:\n",
    "        n_C = n_C + 1\n",
    "    if exp_result < 4 and exp_result % 2 == 0:\n",
    "        n_D = n_D + 1\n",
    "\n",
    "p_A = n_A / N\n",
    "p_B = n_B / N\n",
    "p_C = n_C / N\n",
    "p_D = n_D / N\n",
    "print(f\"P(A) = n_A / N = {n_A} / {N} = {p_A:.3f}\")\n",
    "print(f\"P(B) = n_B / N = {n_B} / {N} = {p_B:.3f}\")\n",
    "print(f\"P(C) = n_C / N = {n_C} / {N} = {p_C:.3f}\")\n",
    "print(f\"P(D) = n_D / N = {n_D} / {N} = {p_D:.3f}\")\n",
    "print(f\"P(C) = P(A+B) = P(A) + P(B) - P(D) = {p_A + p_B - p_D:.3f}\")"
   ],
   "outputs": [
    {
     "output_type": "stream",
     "name": "stdout",
     "text": [
      "P(A) = n_A / N = 50050 / 100000 = 0.500\n",
      "P(B) = n_B / N = 50010 / 100000 = 0.500\n",
      "P(C) = n_C / N = 83542 / 100000 = 0.835\n",
      "P(D) = n_D / N = 16518 / 100000 = 0.165\n",
      "P(C) = P(A+B) = P(A) + P(B) - P(D) = 0.835\n"
     ]
    }
   ],
   "metadata": {}
  },
  {
   "cell_type": "markdown",
   "source": [
    "# MULTIPLYING\n"
   ],
   "metadata": {}
  },
  {
   "cell_type": "code",
   "execution_count": 3,
   "source": [
    "ROLL_DICE_EVENTS = [1, 2, 3, 4, 5, 6]\n",
    "\n",
    "N = 100000\n",
    "n_A = 0 # event A : first dice = 1\n",
    "n_B = 0 # event B : second dice = 6\n",
    "n_C = 0 # event C : first dice = 1 then second = 6\n",
    "\n",
    "for i in range(N):\n",
    "    first = random.choice(ROLL_DICE_EVENTS)\n",
    "    second = random.choice(ROLL_DICE_EVENTS)\n",
    "    if first == 1:\n",
    "        n_A = n_A + 1\n",
    "    if second == 6:\n",
    "        n_B = n_B + 1\n",
    "    if first == 1 and second == 6:\n",
    "        n_C = n_C + 1\n",
    "\n",
    "p_A = n_A / N\n",
    "p_B = n_B / N\n",
    "p_C = n_C / N\n",
    "print(f\"P(A) = n_A / N = {n_A} / {N} = {p_A:.3f}\")\n",
    "print(f\"P(B) = n_B / N = {n_B} / {N} = {p_B:.3f}\")\n",
    "print(f\"P(C) = n_C / N = {n_C} / {N} = {p_C:.3f}\")\n",
    "\n",
    "# P(C) = P(A then B) = P(A) . P(B)\n",
    "# We can see, second dice is independent to first dice"
   ],
   "outputs": [
    {
     "output_type": "stream",
     "name": "stdout",
     "text": [
      "P(A) = n_A / N = 16752 / 100000 = 0.168\n",
      "P(B) = n_B / N = 16563 / 100000 = 0.166\n",
      "P(C) = n_C / N = 2704 / 100000 = 0.027\n"
     ]
    }
   ],
   "metadata": {}
  },
  {
   "cell_type": "code",
   "execution_count": 4,
   "source": [
    "N = 100000\n",
    "n_A = 0 # event A : first card = 1\n",
    "n_B = 0 # event B : second card = 3\n",
    "n_C = 0 # event C : first card = 1 then second = 3\n",
    "\n",
    "for i in range(N):\n",
    "    DECK_CARDS = [1, 2, 3]\n",
    "    first = random.choice(DECK_CARDS)\n",
    "    DECK_CARDS.remove(first)\n",
    "    second = random.choice(DECK_CARDS)\n",
    "    if first == 1 and second == 3:\n",
    "        n_C = n_C + 1\n",
    "\n",
    "p_C = n_C / N\n",
    "print(f\"P(C) = n_C / N = {n_C} / {N} = {p_C:.3f}\")\n",
    "\n",
    "# We can see, second card depends on first card, because deck of card when I take the second is removed the first card\n",
    "# P(C) = P(A then B) = P(A) . P(B) = 1 / N * 1 / (N - 1) = 1/3 * 1/2 = 1/6 = 0.1667"
   ],
   "outputs": [
    {
     "output_type": "stream",
     "name": "stdout",
     "text": [
      "P(C) = n_C / N = 16731 / 100000 = 0.167\n"
     ]
    }
   ],
   "metadata": {}
  },
  {
   "cell_type": "markdown",
   "source": [
    "## Conditional Probability\n",
    "\n"
   ],
   "metadata": {}
  }
 ],
 "metadata": {
  "orig_nbformat": 4,
  "language_info": {
   "name": "python",
   "version": "3.8.10",
   "mimetype": "text/x-python",
   "codemirror_mode": {
    "name": "ipython",
    "version": 3
   },
   "pygments_lexer": "ipython3",
   "nbconvert_exporter": "python",
   "file_extension": ".py"
  },
  "kernelspec": {
   "name": "python3",
   "display_name": "Python 3.8.10 64-bit ('probability-statistics-W1lVLoYB-py3.8': venv)"
  },
  "interpreter": {
   "hash": "f31c04e6d499fb30d5a18bbfcd1af0ebbc2d66c666374b774f04ee38d9075b43"
  }
 },
 "nbformat": 4,
 "nbformat_minor": 2
}