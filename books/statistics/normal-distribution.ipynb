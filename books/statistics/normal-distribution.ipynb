{
 "cells": [
  {
   "cell_type": "markdown",
   "source": [
    "# Normal Distribution - Phân Phối Chuẩn"
   ],
   "metadata": {}
  },
  {
   "cell_type": "markdown",
   "source": [
    "Phân phối chuẩn (hay phân phối Gauss, hay phân phối hình chuông) là một trong những phân phối hay gặp nhất trong cuộc sống,\n",
    "vì vậy mà nó được đặt tên là Chuẩn (Normal).\n",
    "\n",
    "Phân phối chuẩn được xác định bởi 2 tham số là MEAN và STANDARD DEVIATION (SD) . Có các yếu tố sau:\n",
    "\n",
    "- ~68.2% tập trung quanh MEAN từ -1 SD và 1 SD ( 2 SD )\n",
    "- ~95.4% tập trung quanh MEAN từ -2 SD và 2 SD ( 4 SD )\n",
    "- ~99.7% tập trung quanh MEAN từ -3 SD và 3 SD ( 6 SD )\n",
    "\n",
    "![Normal Distribution](https://upload.wikimedia.org/wikipedia/commons/4/4f/Standard_deviation_diagram.png)"
   ],
   "metadata": {}
  },
  {
   "cell_type": "code",
   "execution_count": 11,
   "source": [
    "from matplotlib import pyplot as plt\n",
    "import numpy as np\n",
    "\n",
    "# size = số items\n",
    "# loc = mean\n",
    "# scale = standard deviation\n",
    "normal_data = np.random.normal(size=1000, loc=20, scale=10)\n",
    "\n",
    "# print thử 50 số đầu tiên\n",
    "print(normal_data[0:50])\n",
    "\n",
    "# vẽ thử histogram xem có phải hình chuông không ? :D\n",
    "plt.hist(normal_data)\n",
    "plt.title(\"Normal Distribution N(20,10)\")\n",
    "plt.show()"
   ],
   "outputs": [
    {
     "output_type": "stream",
     "name": "stdout",
     "text": [
      "[ 16.49100661  28.01910927  27.95229031  18.47311659  19.71738837\n",
      "  29.51001808  26.25154593  46.30980759  18.04897496  23.22930854\n",
      "  28.51979022   9.46010799  21.65331707  18.23561481  17.01971357\n",
      "  28.36137507  11.84767108  34.1030458   24.66757339  19.31088288\n",
      "  19.88750323  20.03096249  26.72616162  18.56471582   7.83125049\n",
      "  30.47575425   6.90731764   9.90602717  13.53017558  19.473839\n",
      "  25.91985465  25.26215733   3.6681172   30.49053237  16.36503072\n",
      "  -3.24740188 -11.28089368   1.53882078  26.41428664  30.86716722\n",
      "  19.2663795   11.18388125   7.72830968  18.67958517  24.39858832\n",
      "  10.60886235  18.01173276  14.37716054  29.057665    20.23081074]\n"
     ]
    },
    {
     "output_type": "display_data",
     "data": {
      "image/png": "[encoded data removed]",
      "text/plain": [
       "<Figure size 432x288 with 1 Axes>"
      ]
     },
     "metadata": {
      "needs_background": "light"
     }
    }
   ],
   "metadata": {}
  }
 ],
 "metadata": {
  "orig_nbformat": 4,
  "language_info": {
   "name": "python",
   "version": "3.8.10",
   "mimetype": "text/x-python",
   "codemirror_mode": {
    "name": "ipython",
    "version": 3
   },
   "pygments_lexer": "ipython3",
   "nbconvert_exporter": "python",
   "file_extension": ".py"
  },
  "kernelspec": {
   "name": "python3",
   "display_name": "Python 3.8.10 64-bit ('probability-statistics-W1lVLoYB-py3.8': venv)"
  },
  "interpreter": {
   "hash": "f31c04e6d499fb30d5a18bbfcd1af0ebbc2d66c666374b774f04ee38d9075b43"
  }
 },
 "nbformat": 4,
 "nbformat_minor": 2
}